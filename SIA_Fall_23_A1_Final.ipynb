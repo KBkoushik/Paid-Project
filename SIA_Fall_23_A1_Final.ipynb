{
 "cells": [
  {
   "cell_type": "markdown",
   "id": "30541a26",
   "metadata": {
    "id": "30541a26"
   },
   "source": [
    "# Statistical Intuitions and Applications\n",
    "\n",
    "## Assignment - 1 ##"
   ]
  },
  {
   "cell_type": "markdown",
   "id": "cd8a85fd",
   "metadata": {
    "id": "cd8a85fd"
   },
   "source": [
    "**Main Setup.**\n",
    "For this assignment you will select a random sample from a dataset using the codes given below with all the detailed steps. To select your random sample and save your data set on your computer follow these instructions:\n",
    "\n",
    "1. Run the Sample size code below to find the sample size 'n' on which you will work.    \n",
    "2. Go the 3rd line of CSV file code below and enter your sample size n = ???\n",
    "3. Now go the 4th line: df.to_csv(r'**Path where you want to store the exported CSV file\\FileName.csv**')   \n",
    "3. Change **Path where you want to store the exported CSV file** to where you want to store your data.\n",
    "4. Change **File Name** to your first name.\n",
    "5. Run the code.\n",
    "\n",
    "Once you run these two codes, your CSV file will be saved on your device at the same location you provided. Using the third code \"Access the file ...\" below, you will acces this file. **Also include this CSV file in your assignment submission!**\n",
    "\n",
    "Don't run the first two codes over and over again, once you have formally started working on your assignment."
   ]
  },
  {
   "cell_type": "code",
   "execution_count": 1,
   "id": "97103d4e",
   "metadata": {},
   "outputs": [],
   "source": [
    "import numpy as np\n",
    "np.random.seed(42)"
   ]
  },
  {
   "cell_type": "code",
   "execution_count": 10,
   "id": "492f6d05",
   "metadata": {},
   "outputs": [
    {
     "name": "stdout",
     "output_type": "stream",
     "text": [
      "Sample size = n = 71\n"
     ]
    }
   ],
   "source": [
    "import random\n",
    "random_seed = 42  # You can use any integer value you like\n",
    "random.seed(random_seed)\n",
    "#delete the above code when you want to submit your project\n",
    "\n",
    "# Sample size\n",
    "import random\n",
    "s=random.randint(51,81)\n",
    "print(\"Sample size = n =\", s)"
   ]
  },
  {
   "cell_type": "code",
   "execution_count": 11,
   "id": "70c662ac",
   "metadata": {
    "id": "70c662ac"
   },
   "outputs": [
    {
     "ename": "URLError",
     "evalue": "<urlopen error [WinError 10060] A connection attempt failed because the connected party did not properly respond after a period of time, or established connection failed because connected host has failed to respond>",
     "output_type": "error",
     "traceback": [
      "\u001b[1;31m---------------------------------------------------------------------------\u001b[0m",
      "\u001b[1;31mTimeoutError\u001b[0m                              Traceback (most recent call last)",
      "\u001b[1;32m~\\anaconda3\\lib\\urllib\\request.py\u001b[0m in \u001b[0;36mdo_open\u001b[1;34m(self, http_class, req, **http_conn_args)\u001b[0m\n\u001b[0;32m   1353\u001b[0m             \u001b[1;32mtry\u001b[0m\u001b[1;33m:\u001b[0m\u001b[1;33m\u001b[0m\u001b[1;33m\u001b[0m\u001b[0m\n\u001b[1;32m-> 1354\u001b[1;33m                 h.request(req.get_method(), req.selector, req.data, headers,\n\u001b[0m\u001b[0;32m   1355\u001b[0m                           encode_chunked=req.has_header('Transfer-encoding'))\n",
      "\u001b[1;32m~\\anaconda3\\lib\\http\\client.py\u001b[0m in \u001b[0;36mrequest\u001b[1;34m(self, method, url, body, headers, encode_chunked)\u001b[0m\n\u001b[0;32m   1254\u001b[0m         \u001b[1;34m\"\"\"Send a complete request to the server.\"\"\"\u001b[0m\u001b[1;33m\u001b[0m\u001b[1;33m\u001b[0m\u001b[0m\n\u001b[1;32m-> 1255\u001b[1;33m         \u001b[0mself\u001b[0m\u001b[1;33m.\u001b[0m\u001b[0m_send_request\u001b[0m\u001b[1;33m(\u001b[0m\u001b[0mmethod\u001b[0m\u001b[1;33m,\u001b[0m \u001b[0murl\u001b[0m\u001b[1;33m,\u001b[0m \u001b[0mbody\u001b[0m\u001b[1;33m,\u001b[0m \u001b[0mheaders\u001b[0m\u001b[1;33m,\u001b[0m \u001b[0mencode_chunked\u001b[0m\u001b[1;33m)\u001b[0m\u001b[1;33m\u001b[0m\u001b[1;33m\u001b[0m\u001b[0m\n\u001b[0m\u001b[0;32m   1256\u001b[0m \u001b[1;33m\u001b[0m\u001b[0m\n",
      "\u001b[1;32m~\\anaconda3\\lib\\http\\client.py\u001b[0m in \u001b[0;36m_send_request\u001b[1;34m(self, method, url, body, headers, encode_chunked)\u001b[0m\n\u001b[0;32m   1300\u001b[0m             \u001b[0mbody\u001b[0m \u001b[1;33m=\u001b[0m \u001b[0m_encode\u001b[0m\u001b[1;33m(\u001b[0m\u001b[0mbody\u001b[0m\u001b[1;33m,\u001b[0m \u001b[1;34m'body'\u001b[0m\u001b[1;33m)\u001b[0m\u001b[1;33m\u001b[0m\u001b[1;33m\u001b[0m\u001b[0m\n\u001b[1;32m-> 1301\u001b[1;33m         \u001b[0mself\u001b[0m\u001b[1;33m.\u001b[0m\u001b[0mendheaders\u001b[0m\u001b[1;33m(\u001b[0m\u001b[0mbody\u001b[0m\u001b[1;33m,\u001b[0m \u001b[0mencode_chunked\u001b[0m\u001b[1;33m=\u001b[0m\u001b[0mencode_chunked\u001b[0m\u001b[1;33m)\u001b[0m\u001b[1;33m\u001b[0m\u001b[1;33m\u001b[0m\u001b[0m\n\u001b[0m\u001b[0;32m   1302\u001b[0m \u001b[1;33m\u001b[0m\u001b[0m\n",
      "\u001b[1;32m~\\anaconda3\\lib\\http\\client.py\u001b[0m in \u001b[0;36mendheaders\u001b[1;34m(self, message_body, encode_chunked)\u001b[0m\n\u001b[0;32m   1249\u001b[0m             \u001b[1;32mraise\u001b[0m \u001b[0mCannotSendHeader\u001b[0m\u001b[1;33m(\u001b[0m\u001b[1;33m)\u001b[0m\u001b[1;33m\u001b[0m\u001b[1;33m\u001b[0m\u001b[0m\n\u001b[1;32m-> 1250\u001b[1;33m         \u001b[0mself\u001b[0m\u001b[1;33m.\u001b[0m\u001b[0m_send_output\u001b[0m\u001b[1;33m(\u001b[0m\u001b[0mmessage_body\u001b[0m\u001b[1;33m,\u001b[0m \u001b[0mencode_chunked\u001b[0m\u001b[1;33m=\u001b[0m\u001b[0mencode_chunked\u001b[0m\u001b[1;33m)\u001b[0m\u001b[1;33m\u001b[0m\u001b[1;33m\u001b[0m\u001b[0m\n\u001b[0m\u001b[0;32m   1251\u001b[0m \u001b[1;33m\u001b[0m\u001b[0m\n",
      "\u001b[1;32m~\\anaconda3\\lib\\http\\client.py\u001b[0m in \u001b[0;36m_send_output\u001b[1;34m(self, message_body, encode_chunked)\u001b[0m\n\u001b[0;32m   1009\u001b[0m         \u001b[1;32mdel\u001b[0m \u001b[0mself\u001b[0m\u001b[1;33m.\u001b[0m\u001b[0m_buffer\u001b[0m\u001b[1;33m[\u001b[0m\u001b[1;33m:\u001b[0m\u001b[1;33m]\u001b[0m\u001b[1;33m\u001b[0m\u001b[1;33m\u001b[0m\u001b[0m\n\u001b[1;32m-> 1010\u001b[1;33m         \u001b[0mself\u001b[0m\u001b[1;33m.\u001b[0m\u001b[0msend\u001b[0m\u001b[1;33m(\u001b[0m\u001b[0mmsg\u001b[0m\u001b[1;33m)\u001b[0m\u001b[1;33m\u001b[0m\u001b[1;33m\u001b[0m\u001b[0m\n\u001b[0m\u001b[0;32m   1011\u001b[0m \u001b[1;33m\u001b[0m\u001b[0m\n",
      "\u001b[1;32m~\\anaconda3\\lib\\http\\client.py\u001b[0m in \u001b[0;36msend\u001b[1;34m(self, data)\u001b[0m\n\u001b[0;32m    949\u001b[0m             \u001b[1;32mif\u001b[0m \u001b[0mself\u001b[0m\u001b[1;33m.\u001b[0m\u001b[0mauto_open\u001b[0m\u001b[1;33m:\u001b[0m\u001b[1;33m\u001b[0m\u001b[1;33m\u001b[0m\u001b[0m\n\u001b[1;32m--> 950\u001b[1;33m                 \u001b[0mself\u001b[0m\u001b[1;33m.\u001b[0m\u001b[0mconnect\u001b[0m\u001b[1;33m(\u001b[0m\u001b[1;33m)\u001b[0m\u001b[1;33m\u001b[0m\u001b[1;33m\u001b[0m\u001b[0m\n\u001b[0m\u001b[0;32m    951\u001b[0m             \u001b[1;32melse\u001b[0m\u001b[1;33m:\u001b[0m\u001b[1;33m\u001b[0m\u001b[1;33m\u001b[0m\u001b[0m\n",
      "\u001b[1;32m~\\anaconda3\\lib\\http\\client.py\u001b[0m in \u001b[0;36mconnect\u001b[1;34m(self)\u001b[0m\n\u001b[0;32m   1416\u001b[0m \u001b[1;33m\u001b[0m\u001b[0m\n\u001b[1;32m-> 1417\u001b[1;33m             \u001b[0msuper\u001b[0m\u001b[1;33m(\u001b[0m\u001b[1;33m)\u001b[0m\u001b[1;33m.\u001b[0m\u001b[0mconnect\u001b[0m\u001b[1;33m(\u001b[0m\u001b[1;33m)\u001b[0m\u001b[1;33m\u001b[0m\u001b[1;33m\u001b[0m\u001b[0m\n\u001b[0m\u001b[0;32m   1418\u001b[0m \u001b[1;33m\u001b[0m\u001b[0m\n",
      "\u001b[1;32m~\\anaconda3\\lib\\http\\client.py\u001b[0m in \u001b[0;36mconnect\u001b[1;34m(self)\u001b[0m\n\u001b[0;32m    920\u001b[0m         \u001b[1;34m\"\"\"Connect to the host and port specified in __init__.\"\"\"\u001b[0m\u001b[1;33m\u001b[0m\u001b[1;33m\u001b[0m\u001b[0m\n\u001b[1;32m--> 921\u001b[1;33m         self.sock = self._create_connection(\n\u001b[0m\u001b[0;32m    922\u001b[0m             (self.host,self.port), self.timeout, self.source_address)\n",
      "\u001b[1;32m~\\anaconda3\\lib\\socket.py\u001b[0m in \u001b[0;36mcreate_connection\u001b[1;34m(address, timeout, source_address)\u001b[0m\n\u001b[0;32m    807\u001b[0m         \u001b[1;32mtry\u001b[0m\u001b[1;33m:\u001b[0m\u001b[1;33m\u001b[0m\u001b[1;33m\u001b[0m\u001b[0m\n\u001b[1;32m--> 808\u001b[1;33m             \u001b[1;32mraise\u001b[0m \u001b[0merr\u001b[0m\u001b[1;33m\u001b[0m\u001b[1;33m\u001b[0m\u001b[0m\n\u001b[0m\u001b[0;32m    809\u001b[0m         \u001b[1;32mfinally\u001b[0m\u001b[1;33m:\u001b[0m\u001b[1;33m\u001b[0m\u001b[1;33m\u001b[0m\u001b[0m\n",
      "\u001b[1;32m~\\anaconda3\\lib\\socket.py\u001b[0m in \u001b[0;36mcreate_connection\u001b[1;34m(address, timeout, source_address)\u001b[0m\n\u001b[0;32m    795\u001b[0m                 \u001b[0msock\u001b[0m\u001b[1;33m.\u001b[0m\u001b[0mbind\u001b[0m\u001b[1;33m(\u001b[0m\u001b[0msource_address\u001b[0m\u001b[1;33m)\u001b[0m\u001b[1;33m\u001b[0m\u001b[1;33m\u001b[0m\u001b[0m\n\u001b[1;32m--> 796\u001b[1;33m             \u001b[0msock\u001b[0m\u001b[1;33m.\u001b[0m\u001b[0mconnect\u001b[0m\u001b[1;33m(\u001b[0m\u001b[0msa\u001b[0m\u001b[1;33m)\u001b[0m\u001b[1;33m\u001b[0m\u001b[1;33m\u001b[0m\u001b[0m\n\u001b[0m\u001b[0;32m    797\u001b[0m             \u001b[1;31m# Break explicitly a reference cycle\u001b[0m\u001b[1;33m\u001b[0m\u001b[1;33m\u001b[0m\u001b[1;33m\u001b[0m\u001b[0m\n",
      "\u001b[1;31mTimeoutError\u001b[0m: [WinError 10060] A connection attempt failed because the connected party did not properly respond after a period of time, or established connection failed because connected host has failed to respond",
      "\nDuring handling of the above exception, another exception occurred:\n",
      "\u001b[1;31mURLError\u001b[0m                                  Traceback (most recent call last)",
      "\u001b[1;32m<ipython-input-11-ea06ccb0c699>\u001b[0m in \u001b[0;36m<module>\u001b[1;34m\u001b[0m\n\u001b[0;32m      1\u001b[0m \u001b[1;31m# CSV File\u001b[0m\u001b[1;33m\u001b[0m\u001b[1;33m\u001b[0m\u001b[1;33m\u001b[0m\u001b[0m\n\u001b[0;32m      2\u001b[0m \u001b[1;32mimport\u001b[0m \u001b[0mpandas\u001b[0m \u001b[1;32mas\u001b[0m \u001b[0mpd\u001b[0m\u001b[1;33m\u001b[0m\u001b[1;33m\u001b[0m\u001b[0m\n\u001b[1;32m----> 3\u001b[1;33m \u001b[0moriginal_data\u001b[0m \u001b[1;33m=\u001b[0m \u001b[0mpd\u001b[0m\u001b[1;33m.\u001b[0m\u001b[0mread_csv\u001b[0m\u001b[1;33m(\u001b[0m\u001b[1;34m\"https://raw.githubusercontent.com/zu-math/SIA-Fall-2023-Dataset/main/mod_mea_f.csv\"\u001b[0m\u001b[1;33m)\u001b[0m\u001b[1;33m\u001b[0m\u001b[1;33m\u001b[0m\u001b[0m\n\u001b[0m\u001b[0;32m      4\u001b[0m \u001b[0mdf1\u001b[0m\u001b[1;33m=\u001b[0m\u001b[0moriginal_data\u001b[0m\u001b[1;33m.\u001b[0m\u001b[0msample\u001b[0m\u001b[1;33m(\u001b[0m\u001b[1;36m71\u001b[0m\u001b[1;33m)\u001b[0m  \u001b[1;31m# Add your sample size here\u001b[0m\u001b[1;33m\u001b[0m\u001b[1;33m\u001b[0m\u001b[0m\n\u001b[0;32m      5\u001b[0m \u001b[1;31m#df1.to_csv(r'Path where you want to store the exported CSV file\\FileName.csv')\u001b[0m\u001b[1;33m\u001b[0m\u001b[1;33m\u001b[0m\u001b[1;33m\u001b[0m\u001b[0m\n",
      "\u001b[1;32m~\\anaconda3\\lib\\site-packages\\pandas\\io\\parsers.py\u001b[0m in \u001b[0;36mread_csv\u001b[1;34m(filepath_or_buffer, sep, delimiter, header, names, index_col, usecols, squeeze, prefix, mangle_dupe_cols, dtype, engine, converters, true_values, false_values, skipinitialspace, skiprows, skipfooter, nrows, na_values, keep_default_na, na_filter, verbose, skip_blank_lines, parse_dates, infer_datetime_format, keep_date_col, date_parser, dayfirst, cache_dates, iterator, chunksize, compression, thousands, decimal, lineterminator, quotechar, quoting, doublequote, escapechar, comment, encoding, dialect, error_bad_lines, warn_bad_lines, delim_whitespace, low_memory, memory_map, float_precision, storage_options)\u001b[0m\n\u001b[0;32m    608\u001b[0m     \u001b[0mkwds\u001b[0m\u001b[1;33m.\u001b[0m\u001b[0mupdate\u001b[0m\u001b[1;33m(\u001b[0m\u001b[0mkwds_defaults\u001b[0m\u001b[1;33m)\u001b[0m\u001b[1;33m\u001b[0m\u001b[1;33m\u001b[0m\u001b[0m\n\u001b[0;32m    609\u001b[0m \u001b[1;33m\u001b[0m\u001b[0m\n\u001b[1;32m--> 610\u001b[1;33m     \u001b[1;32mreturn\u001b[0m \u001b[0m_read\u001b[0m\u001b[1;33m(\u001b[0m\u001b[0mfilepath_or_buffer\u001b[0m\u001b[1;33m,\u001b[0m \u001b[0mkwds\u001b[0m\u001b[1;33m)\u001b[0m\u001b[1;33m\u001b[0m\u001b[1;33m\u001b[0m\u001b[0m\n\u001b[0m\u001b[0;32m    611\u001b[0m \u001b[1;33m\u001b[0m\u001b[0m\n\u001b[0;32m    612\u001b[0m \u001b[1;33m\u001b[0m\u001b[0m\n",
      "\u001b[1;32m~\\anaconda3\\lib\\site-packages\\pandas\\io\\parsers.py\u001b[0m in \u001b[0;36m_read\u001b[1;34m(filepath_or_buffer, kwds)\u001b[0m\n\u001b[0;32m    460\u001b[0m \u001b[1;33m\u001b[0m\u001b[0m\n\u001b[0;32m    461\u001b[0m     \u001b[1;31m# Create the parser.\u001b[0m\u001b[1;33m\u001b[0m\u001b[1;33m\u001b[0m\u001b[1;33m\u001b[0m\u001b[0m\n\u001b[1;32m--> 462\u001b[1;33m     \u001b[0mparser\u001b[0m \u001b[1;33m=\u001b[0m \u001b[0mTextFileReader\u001b[0m\u001b[1;33m(\u001b[0m\u001b[0mfilepath_or_buffer\u001b[0m\u001b[1;33m,\u001b[0m \u001b[1;33m**\u001b[0m\u001b[0mkwds\u001b[0m\u001b[1;33m)\u001b[0m\u001b[1;33m\u001b[0m\u001b[1;33m\u001b[0m\u001b[0m\n\u001b[0m\u001b[0;32m    463\u001b[0m \u001b[1;33m\u001b[0m\u001b[0m\n\u001b[0;32m    464\u001b[0m     \u001b[1;32mif\u001b[0m \u001b[0mchunksize\u001b[0m \u001b[1;32mor\u001b[0m \u001b[0miterator\u001b[0m\u001b[1;33m:\u001b[0m\u001b[1;33m\u001b[0m\u001b[1;33m\u001b[0m\u001b[0m\n",
      "\u001b[1;32m~\\anaconda3\\lib\\site-packages\\pandas\\io\\parsers.py\u001b[0m in \u001b[0;36m__init__\u001b[1;34m(self, f, engine, **kwds)\u001b[0m\n\u001b[0;32m    817\u001b[0m             \u001b[0mself\u001b[0m\u001b[1;33m.\u001b[0m\u001b[0moptions\u001b[0m\u001b[1;33m[\u001b[0m\u001b[1;34m\"has_index_names\"\u001b[0m\u001b[1;33m]\u001b[0m \u001b[1;33m=\u001b[0m \u001b[0mkwds\u001b[0m\u001b[1;33m[\u001b[0m\u001b[1;34m\"has_index_names\"\u001b[0m\u001b[1;33m]\u001b[0m\u001b[1;33m\u001b[0m\u001b[1;33m\u001b[0m\u001b[0m\n\u001b[0;32m    818\u001b[0m \u001b[1;33m\u001b[0m\u001b[0m\n\u001b[1;32m--> 819\u001b[1;33m         \u001b[0mself\u001b[0m\u001b[1;33m.\u001b[0m\u001b[0m_engine\u001b[0m \u001b[1;33m=\u001b[0m \u001b[0mself\u001b[0m\u001b[1;33m.\u001b[0m\u001b[0m_make_engine\u001b[0m\u001b[1;33m(\u001b[0m\u001b[0mself\u001b[0m\u001b[1;33m.\u001b[0m\u001b[0mengine\u001b[0m\u001b[1;33m)\u001b[0m\u001b[1;33m\u001b[0m\u001b[1;33m\u001b[0m\u001b[0m\n\u001b[0m\u001b[0;32m    820\u001b[0m \u001b[1;33m\u001b[0m\u001b[0m\n\u001b[0;32m    821\u001b[0m     \u001b[1;32mdef\u001b[0m \u001b[0mclose\u001b[0m\u001b[1;33m(\u001b[0m\u001b[0mself\u001b[0m\u001b[1;33m)\u001b[0m\u001b[1;33m:\u001b[0m\u001b[1;33m\u001b[0m\u001b[1;33m\u001b[0m\u001b[0m\n",
      "\u001b[1;32m~\\anaconda3\\lib\\site-packages\\pandas\\io\\parsers.py\u001b[0m in \u001b[0;36m_make_engine\u001b[1;34m(self, engine)\u001b[0m\n\u001b[0;32m   1048\u001b[0m             )\n\u001b[0;32m   1049\u001b[0m         \u001b[1;31m# error: Too many arguments for \"ParserBase\"\u001b[0m\u001b[1;33m\u001b[0m\u001b[1;33m\u001b[0m\u001b[1;33m\u001b[0m\u001b[0m\n\u001b[1;32m-> 1050\u001b[1;33m         \u001b[1;32mreturn\u001b[0m \u001b[0mmapping\u001b[0m\u001b[1;33m[\u001b[0m\u001b[0mengine\u001b[0m\u001b[1;33m]\u001b[0m\u001b[1;33m(\u001b[0m\u001b[0mself\u001b[0m\u001b[1;33m.\u001b[0m\u001b[0mf\u001b[0m\u001b[1;33m,\u001b[0m \u001b[1;33m**\u001b[0m\u001b[0mself\u001b[0m\u001b[1;33m.\u001b[0m\u001b[0moptions\u001b[0m\u001b[1;33m)\u001b[0m  \u001b[1;31m# type: ignore[call-arg]\u001b[0m\u001b[1;33m\u001b[0m\u001b[1;33m\u001b[0m\u001b[0m\n\u001b[0m\u001b[0;32m   1051\u001b[0m \u001b[1;33m\u001b[0m\u001b[0m\n\u001b[0;32m   1052\u001b[0m     \u001b[1;32mdef\u001b[0m \u001b[0m_failover_to_python\u001b[0m\u001b[1;33m(\u001b[0m\u001b[0mself\u001b[0m\u001b[1;33m)\u001b[0m\u001b[1;33m:\u001b[0m\u001b[1;33m\u001b[0m\u001b[1;33m\u001b[0m\u001b[0m\n",
      "\u001b[1;32m~\\anaconda3\\lib\\site-packages\\pandas\\io\\parsers.py\u001b[0m in \u001b[0;36m__init__\u001b[1;34m(self, src, **kwds)\u001b[0m\n\u001b[0;32m   1865\u001b[0m \u001b[1;33m\u001b[0m\u001b[0m\n\u001b[0;32m   1866\u001b[0m         \u001b[1;31m# open handles\u001b[0m\u001b[1;33m\u001b[0m\u001b[1;33m\u001b[0m\u001b[1;33m\u001b[0m\u001b[0m\n\u001b[1;32m-> 1867\u001b[1;33m         \u001b[0mself\u001b[0m\u001b[1;33m.\u001b[0m\u001b[0m_open_handles\u001b[0m\u001b[1;33m(\u001b[0m\u001b[0msrc\u001b[0m\u001b[1;33m,\u001b[0m \u001b[0mkwds\u001b[0m\u001b[1;33m)\u001b[0m\u001b[1;33m\u001b[0m\u001b[1;33m\u001b[0m\u001b[0m\n\u001b[0m\u001b[0;32m   1868\u001b[0m         \u001b[1;32massert\u001b[0m \u001b[0mself\u001b[0m\u001b[1;33m.\u001b[0m\u001b[0mhandles\u001b[0m \u001b[1;32mis\u001b[0m \u001b[1;32mnot\u001b[0m \u001b[1;32mNone\u001b[0m\u001b[1;33m\u001b[0m\u001b[1;33m\u001b[0m\u001b[0m\n\u001b[0;32m   1869\u001b[0m         \u001b[1;32mfor\u001b[0m \u001b[0mkey\u001b[0m \u001b[1;32min\u001b[0m \u001b[1;33m(\u001b[0m\u001b[1;34m\"storage_options\"\u001b[0m\u001b[1;33m,\u001b[0m \u001b[1;34m\"encoding\"\u001b[0m\u001b[1;33m,\u001b[0m \u001b[1;34m\"memory_map\"\u001b[0m\u001b[1;33m,\u001b[0m \u001b[1;34m\"compression\"\u001b[0m\u001b[1;33m)\u001b[0m\u001b[1;33m:\u001b[0m\u001b[1;33m\u001b[0m\u001b[1;33m\u001b[0m\u001b[0m\n",
      "\u001b[1;32m~\\anaconda3\\lib\\site-packages\\pandas\\io\\parsers.py\u001b[0m in \u001b[0;36m_open_handles\u001b[1;34m(self, src, kwds)\u001b[0m\n\u001b[0;32m   1360\u001b[0m         \u001b[0mLet\u001b[0m \u001b[0mthe\u001b[0m \u001b[0mreaders\u001b[0m \u001b[0mopen\u001b[0m \u001b[0mIOHanldes\u001b[0m \u001b[0mafter\u001b[0m \u001b[0mthey\u001b[0m \u001b[0mare\u001b[0m \u001b[0mdone\u001b[0m \u001b[1;32mwith\u001b[0m \u001b[0mtheir\u001b[0m \u001b[0mpotential\u001b[0m \u001b[0mraises\u001b[0m\u001b[1;33m.\u001b[0m\u001b[1;33m\u001b[0m\u001b[1;33m\u001b[0m\u001b[0m\n\u001b[0;32m   1361\u001b[0m         \"\"\"\n\u001b[1;32m-> 1362\u001b[1;33m         self.handles = get_handle(\n\u001b[0m\u001b[0;32m   1363\u001b[0m             \u001b[0msrc\u001b[0m\u001b[1;33m,\u001b[0m\u001b[1;33m\u001b[0m\u001b[1;33m\u001b[0m\u001b[0m\n\u001b[0;32m   1364\u001b[0m             \u001b[1;34m\"r\"\u001b[0m\u001b[1;33m,\u001b[0m\u001b[1;33m\u001b[0m\u001b[1;33m\u001b[0m\u001b[0m\n",
      "\u001b[1;32m~\\anaconda3\\lib\\site-packages\\pandas\\io\\common.py\u001b[0m in \u001b[0;36mget_handle\u001b[1;34m(path_or_buf, mode, encoding, compression, memory_map, is_text, errors, storage_options)\u001b[0m\n\u001b[0;32m    556\u001b[0m \u001b[1;33m\u001b[0m\u001b[0m\n\u001b[0;32m    557\u001b[0m     \u001b[1;31m# open URLs\u001b[0m\u001b[1;33m\u001b[0m\u001b[1;33m\u001b[0m\u001b[1;33m\u001b[0m\u001b[0m\n\u001b[1;32m--> 558\u001b[1;33m     ioargs = _get_filepath_or_buffer(\n\u001b[0m\u001b[0;32m    559\u001b[0m         \u001b[0mpath_or_buf\u001b[0m\u001b[1;33m,\u001b[0m\u001b[1;33m\u001b[0m\u001b[1;33m\u001b[0m\u001b[0m\n\u001b[0;32m    560\u001b[0m         \u001b[0mencoding\u001b[0m\u001b[1;33m=\u001b[0m\u001b[0mencoding\u001b[0m\u001b[1;33m,\u001b[0m\u001b[1;33m\u001b[0m\u001b[1;33m\u001b[0m\u001b[0m\n",
      "\u001b[1;32m~\\anaconda3\\lib\\site-packages\\pandas\\io\\common.py\u001b[0m in \u001b[0;36m_get_filepath_or_buffer\u001b[1;34m(filepath_or_buffer, encoding, compression, mode, storage_options)\u001b[0m\n\u001b[0;32m    287\u001b[0m                 \u001b[1;34m\"storage_options passed with file object or non-fsspec file path\"\u001b[0m\u001b[1;33m\u001b[0m\u001b[1;33m\u001b[0m\u001b[0m\n\u001b[0;32m    288\u001b[0m             )\n\u001b[1;32m--> 289\u001b[1;33m         \u001b[0mreq\u001b[0m \u001b[1;33m=\u001b[0m \u001b[0murlopen\u001b[0m\u001b[1;33m(\u001b[0m\u001b[0mfilepath_or_buffer\u001b[0m\u001b[1;33m)\u001b[0m\u001b[1;33m\u001b[0m\u001b[1;33m\u001b[0m\u001b[0m\n\u001b[0m\u001b[0;32m    290\u001b[0m         \u001b[0mcontent_encoding\u001b[0m \u001b[1;33m=\u001b[0m \u001b[0mreq\u001b[0m\u001b[1;33m.\u001b[0m\u001b[0mheaders\u001b[0m\u001b[1;33m.\u001b[0m\u001b[0mget\u001b[0m\u001b[1;33m(\u001b[0m\u001b[1;34m\"Content-Encoding\"\u001b[0m\u001b[1;33m,\u001b[0m \u001b[1;32mNone\u001b[0m\u001b[1;33m)\u001b[0m\u001b[1;33m\u001b[0m\u001b[1;33m\u001b[0m\u001b[0m\n\u001b[0;32m    291\u001b[0m         \u001b[1;32mif\u001b[0m \u001b[0mcontent_encoding\u001b[0m \u001b[1;33m==\u001b[0m \u001b[1;34m\"gzip\"\u001b[0m\u001b[1;33m:\u001b[0m\u001b[1;33m\u001b[0m\u001b[1;33m\u001b[0m\u001b[0m\n",
      "\u001b[1;32m~\\anaconda3\\lib\\site-packages\\pandas\\io\\common.py\u001b[0m in \u001b[0;36murlopen\u001b[1;34m(*args, **kwargs)\u001b[0m\n\u001b[0;32m    193\u001b[0m     \u001b[1;32mimport\u001b[0m \u001b[0murllib\u001b[0m\u001b[1;33m.\u001b[0m\u001b[0mrequest\u001b[0m\u001b[1;33m\u001b[0m\u001b[1;33m\u001b[0m\u001b[0m\n\u001b[0;32m    194\u001b[0m \u001b[1;33m\u001b[0m\u001b[0m\n\u001b[1;32m--> 195\u001b[1;33m     \u001b[1;32mreturn\u001b[0m \u001b[0murllib\u001b[0m\u001b[1;33m.\u001b[0m\u001b[0mrequest\u001b[0m\u001b[1;33m.\u001b[0m\u001b[0murlopen\u001b[0m\u001b[1;33m(\u001b[0m\u001b[1;33m*\u001b[0m\u001b[0margs\u001b[0m\u001b[1;33m,\u001b[0m \u001b[1;33m**\u001b[0m\u001b[0mkwargs\u001b[0m\u001b[1;33m)\u001b[0m\u001b[1;33m\u001b[0m\u001b[1;33m\u001b[0m\u001b[0m\n\u001b[0m\u001b[0;32m    196\u001b[0m \u001b[1;33m\u001b[0m\u001b[0m\n\u001b[0;32m    197\u001b[0m \u001b[1;33m\u001b[0m\u001b[0m\n",
      "\u001b[1;32m~\\anaconda3\\lib\\urllib\\request.py\u001b[0m in \u001b[0;36murlopen\u001b[1;34m(url, data, timeout, cafile, capath, cadefault, context)\u001b[0m\n\u001b[0;32m    220\u001b[0m     \u001b[1;32melse\u001b[0m\u001b[1;33m:\u001b[0m\u001b[1;33m\u001b[0m\u001b[1;33m\u001b[0m\u001b[0m\n\u001b[0;32m    221\u001b[0m         \u001b[0mopener\u001b[0m \u001b[1;33m=\u001b[0m \u001b[0m_opener\u001b[0m\u001b[1;33m\u001b[0m\u001b[1;33m\u001b[0m\u001b[0m\n\u001b[1;32m--> 222\u001b[1;33m     \u001b[1;32mreturn\u001b[0m \u001b[0mopener\u001b[0m\u001b[1;33m.\u001b[0m\u001b[0mopen\u001b[0m\u001b[1;33m(\u001b[0m\u001b[0murl\u001b[0m\u001b[1;33m,\u001b[0m \u001b[0mdata\u001b[0m\u001b[1;33m,\u001b[0m \u001b[0mtimeout\u001b[0m\u001b[1;33m)\u001b[0m\u001b[1;33m\u001b[0m\u001b[1;33m\u001b[0m\u001b[0m\n\u001b[0m\u001b[0;32m    223\u001b[0m \u001b[1;33m\u001b[0m\u001b[0m\n\u001b[0;32m    224\u001b[0m \u001b[1;32mdef\u001b[0m \u001b[0minstall_opener\u001b[0m\u001b[1;33m(\u001b[0m\u001b[0mopener\u001b[0m\u001b[1;33m)\u001b[0m\u001b[1;33m:\u001b[0m\u001b[1;33m\u001b[0m\u001b[1;33m\u001b[0m\u001b[0m\n",
      "\u001b[1;32m~\\anaconda3\\lib\\urllib\\request.py\u001b[0m in \u001b[0;36mopen\u001b[1;34m(self, fullurl, data, timeout)\u001b[0m\n\u001b[0;32m    523\u001b[0m \u001b[1;33m\u001b[0m\u001b[0m\n\u001b[0;32m    524\u001b[0m         \u001b[0msys\u001b[0m\u001b[1;33m.\u001b[0m\u001b[0maudit\u001b[0m\u001b[1;33m(\u001b[0m\u001b[1;34m'urllib.Request'\u001b[0m\u001b[1;33m,\u001b[0m \u001b[0mreq\u001b[0m\u001b[1;33m.\u001b[0m\u001b[0mfull_url\u001b[0m\u001b[1;33m,\u001b[0m \u001b[0mreq\u001b[0m\u001b[1;33m.\u001b[0m\u001b[0mdata\u001b[0m\u001b[1;33m,\u001b[0m \u001b[0mreq\u001b[0m\u001b[1;33m.\u001b[0m\u001b[0mheaders\u001b[0m\u001b[1;33m,\u001b[0m \u001b[0mreq\u001b[0m\u001b[1;33m.\u001b[0m\u001b[0mget_method\u001b[0m\u001b[1;33m(\u001b[0m\u001b[1;33m)\u001b[0m\u001b[1;33m)\u001b[0m\u001b[1;33m\u001b[0m\u001b[1;33m\u001b[0m\u001b[0m\n\u001b[1;32m--> 525\u001b[1;33m         \u001b[0mresponse\u001b[0m \u001b[1;33m=\u001b[0m \u001b[0mself\u001b[0m\u001b[1;33m.\u001b[0m\u001b[0m_open\u001b[0m\u001b[1;33m(\u001b[0m\u001b[0mreq\u001b[0m\u001b[1;33m,\u001b[0m \u001b[0mdata\u001b[0m\u001b[1;33m)\u001b[0m\u001b[1;33m\u001b[0m\u001b[1;33m\u001b[0m\u001b[0m\n\u001b[0m\u001b[0;32m    526\u001b[0m \u001b[1;33m\u001b[0m\u001b[0m\n\u001b[0;32m    527\u001b[0m         \u001b[1;31m# post-process response\u001b[0m\u001b[1;33m\u001b[0m\u001b[1;33m\u001b[0m\u001b[1;33m\u001b[0m\u001b[0m\n",
      "\u001b[1;32m~\\anaconda3\\lib\\urllib\\request.py\u001b[0m in \u001b[0;36m_open\u001b[1;34m(self, req, data)\u001b[0m\n\u001b[0;32m    540\u001b[0m \u001b[1;33m\u001b[0m\u001b[0m\n\u001b[0;32m    541\u001b[0m         \u001b[0mprotocol\u001b[0m \u001b[1;33m=\u001b[0m \u001b[0mreq\u001b[0m\u001b[1;33m.\u001b[0m\u001b[0mtype\u001b[0m\u001b[1;33m\u001b[0m\u001b[1;33m\u001b[0m\u001b[0m\n\u001b[1;32m--> 542\u001b[1;33m         result = self._call_chain(self.handle_open, protocol, protocol +\n\u001b[0m\u001b[0;32m    543\u001b[0m                                   '_open', req)\n\u001b[0;32m    544\u001b[0m         \u001b[1;32mif\u001b[0m \u001b[0mresult\u001b[0m\u001b[1;33m:\u001b[0m\u001b[1;33m\u001b[0m\u001b[1;33m\u001b[0m\u001b[0m\n",
      "\u001b[1;32m~\\anaconda3\\lib\\urllib\\request.py\u001b[0m in \u001b[0;36m_call_chain\u001b[1;34m(self, chain, kind, meth_name, *args)\u001b[0m\n\u001b[0;32m    500\u001b[0m         \u001b[1;32mfor\u001b[0m \u001b[0mhandler\u001b[0m \u001b[1;32min\u001b[0m \u001b[0mhandlers\u001b[0m\u001b[1;33m:\u001b[0m\u001b[1;33m\u001b[0m\u001b[1;33m\u001b[0m\u001b[0m\n\u001b[0;32m    501\u001b[0m             \u001b[0mfunc\u001b[0m \u001b[1;33m=\u001b[0m \u001b[0mgetattr\u001b[0m\u001b[1;33m(\u001b[0m\u001b[0mhandler\u001b[0m\u001b[1;33m,\u001b[0m \u001b[0mmeth_name\u001b[0m\u001b[1;33m)\u001b[0m\u001b[1;33m\u001b[0m\u001b[1;33m\u001b[0m\u001b[0m\n\u001b[1;32m--> 502\u001b[1;33m             \u001b[0mresult\u001b[0m \u001b[1;33m=\u001b[0m \u001b[0mfunc\u001b[0m\u001b[1;33m(\u001b[0m\u001b[1;33m*\u001b[0m\u001b[0margs\u001b[0m\u001b[1;33m)\u001b[0m\u001b[1;33m\u001b[0m\u001b[1;33m\u001b[0m\u001b[0m\n\u001b[0m\u001b[0;32m    503\u001b[0m             \u001b[1;32mif\u001b[0m \u001b[0mresult\u001b[0m \u001b[1;32mis\u001b[0m \u001b[1;32mnot\u001b[0m \u001b[1;32mNone\u001b[0m\u001b[1;33m:\u001b[0m\u001b[1;33m\u001b[0m\u001b[1;33m\u001b[0m\u001b[0m\n\u001b[0;32m    504\u001b[0m                 \u001b[1;32mreturn\u001b[0m \u001b[0mresult\u001b[0m\u001b[1;33m\u001b[0m\u001b[1;33m\u001b[0m\u001b[0m\n",
      "\u001b[1;32m~\\anaconda3\\lib\\urllib\\request.py\u001b[0m in \u001b[0;36mhttps_open\u001b[1;34m(self, req)\u001b[0m\n\u001b[0;32m   1395\u001b[0m \u001b[1;33m\u001b[0m\u001b[0m\n\u001b[0;32m   1396\u001b[0m         \u001b[1;32mdef\u001b[0m \u001b[0mhttps_open\u001b[0m\u001b[1;33m(\u001b[0m\u001b[0mself\u001b[0m\u001b[1;33m,\u001b[0m \u001b[0mreq\u001b[0m\u001b[1;33m)\u001b[0m\u001b[1;33m:\u001b[0m\u001b[1;33m\u001b[0m\u001b[1;33m\u001b[0m\u001b[0m\n\u001b[1;32m-> 1397\u001b[1;33m             return self.do_open(http.client.HTTPSConnection, req,\n\u001b[0m\u001b[0;32m   1398\u001b[0m                 context=self._context, check_hostname=self._check_hostname)\n\u001b[0;32m   1399\u001b[0m \u001b[1;33m\u001b[0m\u001b[0m\n",
      "\u001b[1;32m~\\anaconda3\\lib\\urllib\\request.py\u001b[0m in \u001b[0;36mdo_open\u001b[1;34m(self, http_class, req, **http_conn_args)\u001b[0m\n\u001b[0;32m   1355\u001b[0m                           encode_chunked=req.has_header('Transfer-encoding'))\n\u001b[0;32m   1356\u001b[0m             \u001b[1;32mexcept\u001b[0m \u001b[0mOSError\u001b[0m \u001b[1;32mas\u001b[0m \u001b[0merr\u001b[0m\u001b[1;33m:\u001b[0m \u001b[1;31m# timeout error\u001b[0m\u001b[1;33m\u001b[0m\u001b[1;33m\u001b[0m\u001b[0m\n\u001b[1;32m-> 1357\u001b[1;33m                 \u001b[1;32mraise\u001b[0m \u001b[0mURLError\u001b[0m\u001b[1;33m(\u001b[0m\u001b[0merr\u001b[0m\u001b[1;33m)\u001b[0m\u001b[1;33m\u001b[0m\u001b[1;33m\u001b[0m\u001b[0m\n\u001b[0m\u001b[0;32m   1358\u001b[0m             \u001b[0mr\u001b[0m \u001b[1;33m=\u001b[0m \u001b[0mh\u001b[0m\u001b[1;33m.\u001b[0m\u001b[0mgetresponse\u001b[0m\u001b[1;33m(\u001b[0m\u001b[1;33m)\u001b[0m\u001b[1;33m\u001b[0m\u001b[1;33m\u001b[0m\u001b[0m\n\u001b[0;32m   1359\u001b[0m         \u001b[1;32mexcept\u001b[0m\u001b[1;33m:\u001b[0m\u001b[1;33m\u001b[0m\u001b[1;33m\u001b[0m\u001b[0m\n",
      "\u001b[1;31mURLError\u001b[0m: <urlopen error [WinError 10060] A connection attempt failed because the connected party did not properly respond after a period of time, or established connection failed because connected host has failed to respond>"
     ]
    }
   ],
   "source": [
    "# CSV File\n",
    "import pandas as pd\n",
    "original_data = pd.read_csv(\"https://raw.githubusercontent.com/zu-math/SIA-Fall-2023-Dataset/main/mod_mea_f.csv\")\n",
    "df1=original_data.sample(71)  # Add your sample size here\n",
    "#df1.to_csv(r'Path where you want to store the exported CSV file\\FileName.csv')\n",
    "df1"
   ]
  },
  {
   "cell_type": "markdown",
   "id": "91c561e8",
   "metadata": {
    "id": "91c561e8"
   },
   "source": [
    "**Note: If you have successfully run above codes then a CSV file is already generated in your device at the same location which can be accessed using code below.**\n",
    "\n",
    "Once you have started working on the assignment, it is highly recommended not to run above codes as it will generate new \"CSV File\" which will give different answers. The codes below will work each time you open the assignment without the need to run above codes."
   ]
  },
  {
   "cell_type": "code",
   "execution_count": null,
   "id": "e207ebb4",
   "metadata": {
    "id": "e207ebb4"
   },
   "outputs": [],
   "source": [
    "# Access the file and have a look at the dataset\n",
    "df = pd.read_csv(r'Path where you want to store the exported CSV file\\FileName.csv')\n",
    "df = pd.DataFrame(df)\n",
    "df = df.set_index('Unnamed: 0', drop=True)\n",
    "df.columns = df.columns.str.strip()\n",
    "df.head()"
   ]
  },
  {
   "cell_type": "code",
   "execution_count": null,
   "id": "9f2611e5",
   "metadata": {
    "id": "9f2611e5"
   },
   "outputs": [],
   "source": []
  },
  {
   "cell_type": "markdown",
   "id": "0198573b",
   "metadata": {
    "id": "0198573b"
   },
   "source": [
    "## Question 1"
   ]
  },
  {
   "cell_type": "markdown",
   "id": "805877a8",
   "metadata": {
    "id": "805877a8"
   },
   "source": [
    "Your first task is to briefly introduce the study and all the main variables in it using a brief report with clear wordings. Identify all the variables in the dataset. Explain what will you be analyzing in this report to the readers.\n"
   ]
  },
  {
   "cell_type": "markdown",
   "id": "d05ca89d",
   "metadata": {
    "id": "d05ca89d"
   },
   "source": [
    "**Answer 1.**"
   ]
  },
  {
   "cell_type": "code",
   "execution_count": null,
   "id": "c7ef5775",
   "metadata": {
    "id": "c7ef5775"
   },
   "outputs": [],
   "source": []
  },
  {
   "cell_type": "code",
   "execution_count": null,
   "id": "b5c3a268",
   "metadata": {
    "id": "b5c3a268"
   },
   "outputs": [],
   "source": []
  },
  {
   "cell_type": "markdown",
   "id": "a7e4edd1",
   "metadata": {
    "id": "a7e4edd1"
   },
   "source": [
    "## Question 2"
   ]
  },
  {
   "cell_type": "markdown",
   "id": "a0855747",
   "metadata": {
    "id": "a0855747"
   },
   "source": [
    "In this task, you will generate descriptive statistics for all the quantitative variables in the dataset using the histograms and describe their distributions in terms of shape, center, spread, and presence of outliers. The codes below will provide you the histogram and five-number summary of the relevant column. You need to replace '???' with column name."
   ]
  },
  {
   "cell_type": "code",
   "execution_count": null,
   "id": "e524f5ab",
   "metadata": {
    "id": "e524f5ab"
   },
   "outputs": [],
   "source": [
    "import matplotlib.pyplot as plt\n",
    "df['???'].describe()  #Change column name                       #this is for five-number summary\n"
   ]
  },
  {
   "cell_type": "code",
   "execution_count": null,
   "id": "f433f45a",
   "metadata": {
    "id": "f433f45a"
   },
   "outputs": [],
   "source": [
    "plt.hist(df['???'], edgecolor='k') #Change column name          #for histogram"
   ]
  },
  {
   "cell_type": "markdown",
   "id": "6b59ef82",
   "metadata": {
    "id": "6b59ef82"
   },
   "source": [
    "**Answer 2.**"
   ]
  },
  {
   "cell_type": "code",
   "execution_count": null,
   "id": "7fdb18f8",
   "metadata": {
    "id": "7fdb18f8"
   },
   "outputs": [],
   "source": []
  },
  {
   "cell_type": "code",
   "execution_count": null,
   "id": "03d3288f",
   "metadata": {
    "id": "03d3288f"
   },
   "outputs": [],
   "source": []
  },
  {
   "cell_type": "markdown",
   "id": "0c98de60",
   "metadata": {
    "id": "0c98de60"
   },
   "source": [
    "## Question 3"
   ]
  },
  {
   "cell_type": "markdown",
   "id": "a7711baa",
   "metadata": {
    "id": "a7711baa"
   },
   "source": [
    "Your next task is to choose three quantitative variables of your choice and two catagorical variables.\n",
    "\n",
    "Suppose you have chosen column 'Masters' as a quantiative and 'Gender_EN' for a categorical variable. Replicate the steps for task below.  \n",
    "\n",
    "**3a.** Generate a grouped box plot to compare the distribution of Masters degree holders among male and female students. Describe your observations referring to the five-number-summaries of both genders.   \n",
    "\n",
    "In the same way, do it for other quantitative and categorical variables. This should give rise to six cases.\n",
    "\n",
    "**3b.** Discuss any patterns you observe between male and female genders when you compare them."
   ]
  },
  {
   "cell_type": "markdown",
   "id": "a402c78f",
   "metadata": {
    "id": "a402c78f"
   },
   "source": [
    "**Answer 3a.**\n",
    "\n",
    "(Begin your answer by explicitly mentioning which three quantitative and two categorical variables you have chosen.)\n",
    "\n",
    "Case 1.\n"
   ]
  },
  {
   "cell_type": "code",
   "execution_count": null,
   "id": "acd7af5a",
   "metadata": {
    "id": "acd7af5a"
   },
   "outputs": [],
   "source": [
    "# Case 1. Code Here."
   ]
  },
  {
   "cell_type": "markdown",
   "id": "32e682c4",
   "metadata": {
    "id": "32e682c4"
   },
   "source": [
    "**Case 2.**\n",
    "\n",
    "\n"
   ]
  },
  {
   "cell_type": "code",
   "execution_count": null,
   "id": "bc469c30",
   "metadata": {
    "id": "bc469c30"
   },
   "outputs": [],
   "source": [
    "# Case 2. Code Here."
   ]
  },
  {
   "cell_type": "markdown",
   "id": "772f0bc2",
   "metadata": {
    "id": "772f0bc2"
   },
   "source": [
    "**Case 3.**\n",
    "\n"
   ]
  },
  {
   "cell_type": "code",
   "execution_count": null,
   "id": "00f60282",
   "metadata": {
    "id": "00f60282"
   },
   "outputs": [],
   "source": [
    "# Case 3. Code Here."
   ]
  },
  {
   "cell_type": "markdown",
   "id": "6e7d5ce1",
   "metadata": {
    "id": "6e7d5ce1"
   },
   "source": [
    "**Case 4.**\n"
   ]
  },
  {
   "cell_type": "code",
   "execution_count": null,
   "id": "befa8ca3",
   "metadata": {
    "id": "befa8ca3"
   },
   "outputs": [],
   "source": [
    "# Case 4. Code Here."
   ]
  },
  {
   "cell_type": "markdown",
   "id": "9fb8ac17",
   "metadata": {
    "id": "9fb8ac17"
   },
   "source": [
    "**Case 5.**\n",
    "\n",
    "(Begin your answer by explicitly mentioning which three quantitative and two categorical variables you have chosen.)\n",
    "\n",
    "\n"
   ]
  },
  {
   "cell_type": "code",
   "execution_count": null,
   "id": "f6251d96",
   "metadata": {
    "id": "f6251d96"
   },
   "outputs": [],
   "source": [
    "# Case 5. Code Here."
   ]
  },
  {
   "cell_type": "markdown",
   "id": "26f6a55b",
   "metadata": {
    "id": "26f6a55b"
   },
   "source": [
    "**Case 6.**\n"
   ]
  },
  {
   "cell_type": "code",
   "execution_count": null,
   "id": "3c990e50",
   "metadata": {
    "id": "3c990e50"
   },
   "outputs": [],
   "source": [
    "# Case 6. Code Here."
   ]
  },
  {
   "cell_type": "code",
   "execution_count": null,
   "id": "5f0b21c1",
   "metadata": {
    "id": "5f0b21c1"
   },
   "outputs": [],
   "source": []
  },
  {
   "cell_type": "markdown",
   "id": "ec3932b2",
   "metadata": {
    "id": "ec3932b2"
   },
   "source": [
    "**Answer 3b.**"
   ]
  },
  {
   "cell_type": "code",
   "execution_count": null,
   "id": "b8aa473c",
   "metadata": {
    "id": "b8aa473c"
   },
   "outputs": [],
   "source": []
  },
  {
   "cell_type": "code",
   "execution_count": null,
   "id": "bd4cff09",
   "metadata": {
    "id": "bd4cff09"
   },
   "outputs": [],
   "source": [
    "# Sample code to be used for Question 3\n",
    "import pandas\n",
    "import matplotlib.pyplot as plt\n",
    "from numpy import percentile\n",
    "df = pandas.read_csv(r'Path where you want to store the exported CSV file\\FileName.csv') #enter the path and name of your csv file\n",
    "df = pd.DataFrame(df)\n",
    "df = df.set_index('Unnamed: 0', drop=True)\n",
    "df.columns = df.columns.str.strip()\n",
    "\n",
    "male=df[df[\"Gender_EN\"]=='Male']            # For other categorical variable, change with their names\n",
    "female=df[df[\"Gender_EN\"]=='Female']        # For other categorical variable, change with their names\n",
    "\n",
    "#create boxplots side by side\n",
    "data1=male['???']    # Change column name\n",
    "data2=female['???']  # Change column name\n",
    "data = list([data1, data2])\n",
    "fig, ax = plt.subplots()\n",
    "ax.set_xticklabels(['Male', 'Female'])\n",
    "plt.grid(axis=\"y\")\n",
    "plt.boxplot(data)\n",
    "#descriptive statistics\n",
    "print (\"Descriptive Statistics for Male-Quantitative\")\n",
    "print(data1.describe())\n",
    "print (\"Descriptive Statistics for Female-Quantiative\")\n",
    "print(data2.describe())\n"
   ]
  },
  {
   "cell_type": "markdown",
   "id": "1bb8fab1",
   "metadata": {
    "id": "1bb8fab1"
   },
   "source": [
    "## Question 4"
   ]
  },
  {
   "cell_type": "markdown",
   "id": "4a82ff9d",
   "metadata": {
    "id": "4a82ff9d"
   },
   "source": [
    "In this task, you will work on the scatterplots to examine the relationship between dependent and independent variables. Treat 'Academic_Year' as an independent variable and use any of the two dependent variables you chose in Question 3 as the dependent variables.\n",
    "\n",
    "**4a.** Create separate scatterplots to examine the relationship between the dependent variables and the independent variable. Describe the scatterplots in terms of the form, strength, and direction of the relationships. Further examine if the relationship between the independent variable and each of the dependent variables varies by gender (you will need to create scatterplots separately for each gender to answer this question.)   \n",
    "\n",
    "In the same way, do it for other quantitative variables. Now change the categorical variable and replicate calculations. This should give rise to ten cases.\n",
    "\n",
    "**4b.** Explain in simple words what you observed by reporting your findings."
   ]
  },
  {
   "cell_type": "code",
   "execution_count": null,
   "id": "aaad1d11",
   "metadata": {
    "id": "aaad1d11"
   },
   "outputs": [],
   "source": []
  },
  {
   "cell_type": "markdown",
   "id": "fb3d89cf",
   "metadata": {
    "id": "fb3d89cf"
   },
   "source": [
    "**Answer 4a.**\n",
    "\n",
    "(Begin your answer by explicitly mentioning which three quantitative and two categorical variables you have chosen.)\n",
    "\n",
    "**Case 1.**\n"
   ]
  },
  {
   "cell_type": "code",
   "execution_count": null,
   "id": "01ab8129",
   "metadata": {
    "id": "01ab8129"
   },
   "outputs": [],
   "source": [
    "# Case 1. Code Here."
   ]
  },
  {
   "cell_type": "markdown",
   "id": "3441b50a",
   "metadata": {
    "id": "3441b50a"
   },
   "source": [
    "**Case 2.**\n"
   ]
  },
  {
   "cell_type": "code",
   "execution_count": null,
   "id": "073d5bd2",
   "metadata": {
    "id": "073d5bd2"
   },
   "outputs": [],
   "source": [
    "# Case 2. Code Here."
   ]
  },
  {
   "cell_type": "markdown",
   "id": "7b2df99a",
   "metadata": {
    "id": "7b2df99a"
   },
   "source": [
    "**Case 3.**\n"
   ]
  },
  {
   "cell_type": "code",
   "execution_count": null,
   "id": "7549f752",
   "metadata": {
    "id": "7549f752"
   },
   "outputs": [],
   "source": [
    "# Case 3. Code Here."
   ]
  },
  {
   "cell_type": "markdown",
   "id": "93479aa8",
   "metadata": {
    "id": "93479aa8"
   },
   "source": [
    "**Case 4.**\n"
   ]
  },
  {
   "cell_type": "code",
   "execution_count": null,
   "id": "abca4982",
   "metadata": {
    "id": "abca4982"
   },
   "outputs": [],
   "source": [
    "# Case 4. Code Here."
   ]
  },
  {
   "cell_type": "markdown",
   "id": "6ee569fd",
   "metadata": {
    "id": "6ee569fd"
   },
   "source": [
    "**Case 5.**\n"
   ]
  },
  {
   "cell_type": "code",
   "execution_count": null,
   "id": "536578f0",
   "metadata": {
    "id": "536578f0"
   },
   "outputs": [],
   "source": [
    "# Case 5. Code Here."
   ]
  },
  {
   "cell_type": "markdown",
   "id": "8c1d64fa",
   "metadata": {
    "id": "8c1d64fa"
   },
   "source": [
    "**Case 6.**\n"
   ]
  },
  {
   "cell_type": "code",
   "execution_count": null,
   "id": "3b0238f0",
   "metadata": {
    "id": "3b0238f0"
   },
   "outputs": [],
   "source": [
    "# Case 6. Code Here."
   ]
  },
  {
   "cell_type": "code",
   "execution_count": null,
   "id": "15e4f8fe",
   "metadata": {
    "id": "15e4f8fe"
   },
   "outputs": [],
   "source": []
  },
  {
   "cell_type": "code",
   "execution_count": null,
   "id": "a105160b",
   "metadata": {
    "id": "a105160b"
   },
   "outputs": [],
   "source": []
  },
  {
   "cell_type": "markdown",
   "id": "b4911285",
   "metadata": {
    "id": "b4911285"
   },
   "source": [
    "**Answer 4b.**\n",
    "\n",
    "\n"
   ]
  },
  {
   "cell_type": "code",
   "execution_count": null,
   "id": "66f3a812",
   "metadata": {
    "id": "66f3a812"
   },
   "outputs": [],
   "source": []
  },
  {
   "cell_type": "code",
   "execution_count": null,
   "id": "b19a341f",
   "metadata": {
    "id": "b19a341f"
   },
   "outputs": [],
   "source": [
    "# Sample code for Question 4:\n",
    "import pandas\n",
    "import numpy as np\n",
    "from scipy import stats\n",
    "import matplotlib.pyplot as plt\n",
    "import statsmodels.api as statsmodels\n",
    "df = pandas.read_csv(r'Path where you want to store the exported CSV file\\FileName.csv') #enter the path and name of your csv file\n",
    "df = pd.DataFrame(df)\n",
    "df = df.set_index('Unnamed: 0', drop=True)\n",
    "df.columns = df.columns.str.strip()\n",
    "\n",
    "\n",
    "#display the correlation coefficient\n",
    "corr=stats.stats.pearsonr(df[\"???\"],df['???'])[0]\n",
    "print(\"correlation coefficient=\", corr)\n",
    "\n",
    "#display the scatterplot\n",
    "plt.scatter(df['???'],df[\"???\"])  # Change column name\n",
    "plt.title (\"Column A vs Column B\") # Change column name\n",
    "plt.xlabel(\"Column A\")\n",
    "plt.ylabel(\"Column B\")\n",
    "plt.show()"
   ]
  },
  {
   "cell_type": "markdown",
   "id": "66561238",
   "metadata": {
    "id": "66561238"
   },
   "source": [
    "## Question 5"
   ]
  },
  {
   "cell_type": "markdown",
   "id": "9a6cca61",
   "metadata": {
    "id": "9a6cca61"
   },
   "source": [
    "You will now work on the simple linear regression model that predicts for the dependent variable. Treat 'Academic_Year' as an independent variable and use any of the two dependent variables you chose in Questions 3 as the dependent variables.\n",
    "\n",
    "**5a.** Fit a simple linear regression model between your dependent and independent variables. Generate and use the residual plot, the standard error, and the R^2 to assess the fit of each linear model. If the model is a good fit, interpret the slope and the intercept.  \n",
    "\n",
    "In the same way, do it for other quantitative variables. Now change the categorical variable and replicate calculations. This should give rise to ten cases.\n",
    "\n",
    "**5b.** Summarize and present your findings in a sophisticated statistical terms."
   ]
  },
  {
   "cell_type": "code",
   "execution_count": null,
   "id": "764c76aa",
   "metadata": {
    "id": "764c76aa"
   },
   "outputs": [],
   "source": []
  },
  {
   "cell_type": "markdown",
   "id": "17962fca",
   "metadata": {
    "id": "17962fca"
   },
   "source": [
    "**Answer 5a.**\n",
    "\n",
    "(Begin your answer by explicitly mentioning which three quantitative and two categorical variables you have chosen.)\n",
    "\n",
    "**Case 1.**\n"
   ]
  },
  {
   "cell_type": "code",
   "execution_count": null,
   "id": "c65c21e6",
   "metadata": {
    "id": "c65c21e6"
   },
   "outputs": [],
   "source": [
    "# Case 1. Code Here."
   ]
  },
  {
   "cell_type": "markdown",
   "id": "694e2ecc",
   "metadata": {
    "id": "694e2ecc"
   },
   "source": [
    "**Case 2.**\n"
   ]
  },
  {
   "cell_type": "code",
   "execution_count": null,
   "id": "9527a522",
   "metadata": {
    "id": "9527a522"
   },
   "outputs": [],
   "source": [
    "# Case 2. Code Here."
   ]
  },
  {
   "cell_type": "markdown",
   "id": "c043fc32",
   "metadata": {
    "id": "c043fc32"
   },
   "source": [
    "**Case 3.**\n"
   ]
  },
  {
   "cell_type": "code",
   "execution_count": null,
   "id": "22c420be",
   "metadata": {
    "id": "22c420be"
   },
   "outputs": [],
   "source": [
    "# Case 3. Code Here."
   ]
  },
  {
   "cell_type": "markdown",
   "id": "f393cd10",
   "metadata": {
    "id": "f393cd10"
   },
   "source": [
    "**Case 4.**\n"
   ]
  },
  {
   "cell_type": "code",
   "execution_count": null,
   "id": "64d30d7d",
   "metadata": {
    "id": "64d30d7d"
   },
   "outputs": [],
   "source": [
    "# Case 4. Code Here."
   ]
  },
  {
   "cell_type": "markdown",
   "id": "e64450de",
   "metadata": {
    "id": "e64450de"
   },
   "source": [
    "**Case 5.**\n",
    "\n",
    "(Begin your answer by explicitly mentioning which three quantitative and two categorical variables you have chosen.)\n",
    "\n"
   ]
  },
  {
   "cell_type": "code",
   "execution_count": null,
   "id": "2b87fb4b",
   "metadata": {
    "id": "2b87fb4b"
   },
   "outputs": [],
   "source": [
    "# Case 5. Code Here."
   ]
  },
  {
   "cell_type": "markdown",
   "id": "96e252e6",
   "metadata": {
    "id": "96e252e6"
   },
   "source": [
    "**Case 6.**\n",
    "\n",
    "(Begin your answer by explicitly mentioning which three quantitative and two categorical variables you have chosen.)\n",
    "\n"
   ]
  },
  {
   "cell_type": "code",
   "execution_count": null,
   "id": "e757fb53",
   "metadata": {
    "id": "e757fb53"
   },
   "outputs": [],
   "source": [
    "# Case 6. Code Here."
   ]
  },
  {
   "cell_type": "code",
   "execution_count": null,
   "id": "f45a54d8",
   "metadata": {
    "id": "f45a54d8"
   },
   "outputs": [],
   "source": []
  },
  {
   "cell_type": "code",
   "execution_count": null,
   "id": "cacb5b1f",
   "metadata": {
    "id": "cacb5b1f"
   },
   "outputs": [],
   "source": []
  },
  {
   "cell_type": "markdown",
   "id": "17fd3e2b",
   "metadata": {
    "id": "17fd3e2b"
   },
   "source": [
    "**Answer 5b.**\n",
    "\n",
    "\n"
   ]
  },
  {
   "cell_type": "code",
   "execution_count": null,
   "id": "37abace9",
   "metadata": {
    "id": "37abace9"
   },
   "outputs": [],
   "source": []
  },
  {
   "cell_type": "code",
   "execution_count": null,
   "id": "e6d1e4c8",
   "metadata": {
    "id": "e6d1e4c8"
   },
   "outputs": [],
   "source": []
  },
  {
   "cell_type": "code",
   "execution_count": null,
   "id": "064f91d4",
   "metadata": {
    "id": "064f91d4"
   },
   "outputs": [],
   "source": [
    "# Sample code for Question 5:\n",
    "import pandas\n",
    "import numpy as np\n",
    "from scipy import stats\n",
    "import matplotlib.pyplot as plt\n",
    "import statsmodels.api as statsmodels\n",
    "import seaborn as sns\n",
    "\n",
    "df = pandas.read_csv(r'Path where you want to store the exported CSV file\\FileName.csv') #enter the path and name of your csv file\n",
    "df = pd.DataFrame(df)\n",
    "df = df.set_index('Unnamed: 0', drop=True)\n",
    "df.columns = df.columns.str.strip()\n",
    "\n",
    "def regression_equation(column_x, column_y):\n",
    "    # fit the regression line using \"statsmodels\" library:\n",
    "    X= df['???']   # Change column name\n",
    "    X = statsmodels.add_constant(X)\n",
    "    Y = df['???'] # Change column name\n",
    "    regressionmodel = statsmodels.OLS(Y,X).fit() #OLS stands for \"ordinary least squares\"\n",
    "    print('R2: ', round(regressionmodel.rsquared, 3))\n",
    "    SE=np.sqrt(regressionmodel.mse_resid)\n",
    "    print ('SE=', round(SE, 3))\n",
    "\n",
    "     #display the correlation coefficient\n",
    "    correlation_coefficient=stats.stats.pearsonr(df['Academic_Year'],Y)[0]\n",
    "    print(\"correlation_coefficient=\", round(correlation_coefficient,3))\n",
    "\n",
    "    # extract regression parameters from model, rounded to 2 decimal places and print the regression equation:\n",
    "    slope = round(regressionmodel.params[1],3)\n",
    "    intercept = round(regressionmodel.params[0],3)\n",
    "    print(\"Regression equation: \"+column_y+\" = \",slope,\"* \"+column_x+\" + \",intercept)\n",
    "\n",
    "    #display the scatter plot with the line of best fit\n",
    "    plt.scatter(df['Academic_Year'], Y, color='green')\n",
    "    plt.xlabel(column_x)\n",
    "    plt.ylabel(column_y)\n",
    "    plt.plot(df[column_x], regressionmodel.params[1]*df[column_x]+regressionmodel.params[0], color='red')\n",
    "    plt.show()\n",
    "    #display the residual plot\n",
    "    sns.residplot(x = column_x,\n",
    "              y = column_y,\n",
    "              data = df)\n",
    "    plt.show()\n",
    "    #display the residual plot with SE\n",
    "    sns.residplot(x = column_x,\n",
    "              y = column_y,\n",
    "              data = df)\n",
    "    plt.axhline(y=SE, color='r', linestyle='--')\n",
    "    plt.axhline(y=-SE, color='r', linestyle='--')\n",
    "    plt.show()\n",
    "regression_equation('Academic_Year', '???')    # Change column name"
   ]
  },
  {
   "cell_type": "code",
   "execution_count": null,
   "id": "d9bfd2c4",
   "metadata": {
    "id": "d9bfd2c4"
   },
   "outputs": [],
   "source": []
  },
  {
   "cell_type": "markdown",
   "id": "85a312f2",
   "metadata": {
    "id": "85a312f2"
   },
   "source": [
    "## Question 6"
   ]
  },
  {
   "cell_type": "markdown",
   "id": "470bd4f9",
   "metadata": {
    "id": "470bd4f9"
   },
   "source": [
    "The conservation and rehabilitation of local flora and natural habitats comes under part of the biodiversity program of Environment Agency, Abu Dhabi (EAD). A sophisticated and high-tech monitoring system provides the following annual production of plants within native plant nursery. The number of floras in a particular year is written on top of that column which may be used  in calculations.\n",
    "\n",
    "![BD.jpg](attachment:BD.jpg)\n",
    "\n",
    "Answer the following questions.\n"
   ]
  },
  {
   "cell_type": "markdown",
   "id": "e3b80b47",
   "metadata": {
    "id": "e3b80b47"
   },
   "source": [
    "**6a.** Calculate the percentage increase in plants products from year Y1 to year Y2, where both years Y1 and Y2 are obtained by running the code below."
   ]
  },
  {
   "cell_type": "code",
   "execution_count": null,
   "id": "f4c0f7b5",
   "metadata": {
    "id": "f4c0f7b5"
   },
   "outputs": [],
   "source": [
    "# Run this code which will provide you the years for which you need to work\n",
    "t=random.randint(2014, 2018)\n",
    "s=random.randint(2019, 2022)\n",
    "print(\"From Y1=\", t, \"to  Y2 =\", s)"
   ]
  },
  {
   "cell_type": "markdown",
   "id": "ab29e34d",
   "metadata": {
    "id": "ab29e34d"
   },
   "source": [
    "**Provide your answer here.**\n",
    "\n",
    "**Answer 6a:** Percentage Increase = _____ %"
   ]
  },
  {
   "cell_type": "markdown",
   "id": "70ed1004",
   "metadata": {
    "id": "70ed1004"
   },
   "source": [
    "**6b.** Which two years the percentage increase in the annual production of plants was equal to P%? where P is to be found by running the code below and it is calculated up to one decimal place."
   ]
  },
  {
   "cell_type": "code",
   "execution_count": null,
   "id": "bc4c2747",
   "metadata": {
    "id": "bc4c2747"
   },
   "outputs": [],
   "source": [
    "# Run this code to get the percentage\n",
    "t=random.choice([5.9,13.3,62.3,5.7,8.6,31.6,12, 20, 83.9, 71.6, 14.8, 42.9, 94.7,94.4, 86.3])\n",
    "print(\"Percentage = P% =\", t, \"%\")"
   ]
  },
  {
   "cell_type": "markdown",
   "id": "507fc2a9",
   "metadata": {
    "id": "507fc2a9"
   },
   "source": [
    "**Provide your answer here.**\n",
    "\n",
    "**Answer 6b:** Year______ to Year_____"
   ]
  },
  {
   "cell_type": "markdown",
   "id": "66330c98",
   "metadata": {
    "id": "66330c98"
   },
   "source": [
    "## Question 7"
   ]
  },
  {
   "cell_type": "markdown",
   "id": "faba628d",
   "metadata": {
    "id": "faba628d"
   },
   "source": [
    "Under the long-term marine water quality monitoring program of the Environment Agency Abu Dhabi (EAD), a red tide monitoring project was launched to look for harmful algal blooms (HAB) in marine water. The project accounted for number of such HAB incidents in Abu Dhabi from 2002 to 2022. Use your statistical skills of this course IDS-103, to make two strong observations (non-trivial) to be reported to EAD from the graph below.\n",
    "\n",
    "![BD2.jpg](attachment:BD2.jpg)\n",
    "\n",
    "\n"
   ]
  },
  {
   "cell_type": "markdown",
   "id": "e7f2781d",
   "metadata": {
    "id": "e7f2781d"
   },
   "source": [
    "**Answer 7:**"
   ]
  },
  {
   "cell_type": "code",
   "execution_count": null,
   "id": "4b7e199f",
   "metadata": {
    "id": "4b7e199f"
   },
   "outputs": [],
   "source": []
  },
  {
   "cell_type": "code",
   "execution_count": null,
   "id": "0a7ab0cf",
   "metadata": {
    "id": "0a7ab0cf"
   },
   "outputs": [],
   "source": []
  },
  {
   "cell_type": "code",
   "execution_count": null,
   "id": "27da0154",
   "metadata": {
    "id": "27da0154"
   },
   "outputs": [],
   "source": []
  },
  {
   "cell_type": "code",
   "execution_count": null,
   "id": "fac09ab5",
   "metadata": {
    "id": "fac09ab5"
   },
   "outputs": [],
   "source": []
  }
 ],
 "metadata": {
  "colab": {
   "provenance": []
  },
  "kernelspec": {
   "display_name": "Python 3",
   "language": "python",
   "name": "python3"
  },
  "language_info": {
   "codemirror_mode": {
    "name": "ipython",
    "version": 3
   },
   "file_extension": ".py",
   "mimetype": "text/x-python",
   "name": "python",
   "nbconvert_exporter": "python",
   "pygments_lexer": "ipython3",
   "version": "3.8.8"
  }
 },
 "nbformat": 4,
 "nbformat_minor": 5
}
